{
 "cells": [
  {
   "cell_type": "code",
   "execution_count": null,
   "metadata": {},
   "outputs": [],
   "source": [
    "from datasets import load_dataset\n",
    "import pandas as pd\n",
    "\n",
    "# Load the dataset\n",
    "dataset = load_dataset(\"neuralwork/arxiver\")\n",
    "\n",
    "# Convert to pandas DataFrame for easier viewing\n",
    "df = dataset['train'].to_pandas()\n",
    "\n",
    "# Show the first 5 papers with title and abstract\n",
    "# print(df['markdown'].iloc[0])\n",
    "\n",
    "# df[['markdown']].to_csv('raw_paper_data/markdown_only.csv', index=False)\n",
    "type(df['markdown'].values)"
   ]
  },
  {
   "cell_type": "code",
   "execution_count": null,
   "metadata": {},
   "outputs": [],
   "source": [
    "from langchain.document_loaders import CSVLoader\n",
    "from langchain.text_splitter import RecursiveCharacterTextSplitter\n",
    "from langchain_huggingface import HuggingFaceEmbeddings\n",
    "separators = [\"\\n\\n\", \"\\n\", \" \", \"\", \".\"]\n",
    "\n",
    "# Get your splitter ready\n",
    "text_splitter = RecursiveCharacterTextSplitter(separators=separators, chunk_size=1000, chunk_overlap=5)\n",
    "\n",
    "# Split your docs into texts\n",
    "texts_paper = text_splitter.create_documents(df['markdown'].values)\n",
    "\n",
    "# Embeddings\n",
    "hg_embeddings = HuggingFaceEmbeddings()"
   ]
  },
  {
   "cell_type": "code",
   "execution_count": null,
   "metadata": {},
   "outputs": [],
   "source": [
    "from langchain.vectorstores import Chroma\n",
    "persist_directory = 'docs/chroma_rag/'\n",
    "economic_langchain_chroma = Chroma.from_documents(\n",
    "    documents=texts_paper,\n",
    "    collection_name=\"humanizer_data\",\n",
    "    embedding=hg_embeddings,\n",
    "    persist_directory=persist_directory\n",
    ")"
   ]
  },
  {
   "cell_type": "code",
   "execution_count": null,
   "metadata": {},
   "outputs": [],
   "source": []
  }
 ],
 "metadata": {
  "kernelspec": {
   "display_name": "langchain",
   "language": "python",
   "name": "python3"
  },
  "language_info": {
   "codemirror_mode": {
    "name": "ipython",
    "version": 3
   },
   "file_extension": ".py",
   "mimetype": "text/x-python",
   "name": "python",
   "nbconvert_exporter": "python",
   "pygments_lexer": "ipython3",
   "version": "3.10.16"
  }
 },
 "nbformat": 4,
 "nbformat_minor": 2
}
